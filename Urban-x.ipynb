{
 "cells": [
  {
   "cell_type": "code",
   "execution_count": 1,
   "metadata": {},
   "outputs": [],
   "source": [
    "import pandas as pd\n",
    "import numpy as np\n",
    "import seaborn as sns\n",
    "import matplotlib.pyplot as plt\n",
    "from sklearn.preprocessing import StandardScaler, RobustScaler, QuantileTransformer\n",
    "from sklearn.model_selection import KFold, cross_val_score, GroupKFold\n",
    "from sklearn.ensemble import RandomForestRegressor, GradientBoostingRegressor, AdaBoostRegressor\n",
    "from sklearn.tree import DecisionTreeRegressor\n",
    "from sklearn.svm import SVR\n",
    "from sklearn.neighbors import KNeighborsRegressor\n",
    "from xgboost import XGBRegressor\n",
    "from lightgbm import LGBMRegressor\n",
    "from sklearn.linear_model import LinearRegression\n",
    "from sklearn.metrics import mean_squared_error\n",
    "from catboost import CatBoostRegressor\n",
    "from tqdm import tqdm\n",
    "import math\n",
    "import gc\n",
    "import warnings\n",
    "warnings.filterwarnings('ignore')\n",
    "from typing import List"
   ]
  },
  {
   "cell_type": "code",
   "execution_count": 2,
   "metadata": {},
   "outputs": [
    {
     "data": {
      "text/html": [
       "<div>\n",
       "<style scoped>\n",
       "    .dataframe tbody tr th:only-of-type {\n",
       "        vertical-align: middle;\n",
       "    }\n",
       "\n",
       "    .dataframe tbody tr th {\n",
       "        vertical-align: top;\n",
       "    }\n",
       "\n",
       "    .dataframe thead th {\n",
       "        text-align: right;\n",
       "    }\n",
       "</style>\n",
       "<table border=\"1\" class=\"dataframe\">\n",
       "  <thead>\n",
       "    <tr style=\"text-align: right;\">\n",
       "      <th></th>\n",
       "      <th>Place_ID X Date</th>\n",
       "      <th>Date</th>\n",
       "      <th>Place_ID</th>\n",
       "      <th>target</th>\n",
       "      <th>target_min</th>\n",
       "      <th>target_max</th>\n",
       "      <th>target_variance</th>\n",
       "      <th>target_count</th>\n",
       "      <th>precipitable_water_entire_atmosphere</th>\n",
       "      <th>relative_humidity_2m_above_ground</th>\n",
       "      <th>...</th>\n",
       "      <th>L3_SO2_sensor_zenith_angle</th>\n",
       "      <th>L3_SO2_solar_azimuth_angle</th>\n",
       "      <th>L3_SO2_solar_zenith_angle</th>\n",
       "      <th>L3_CH4_CH4_column_volume_mixing_ratio_dry_air</th>\n",
       "      <th>L3_CH4_aerosol_height</th>\n",
       "      <th>L3_CH4_aerosol_optical_depth</th>\n",
       "      <th>L3_CH4_sensor_azimuth_angle</th>\n",
       "      <th>L3_CH4_sensor_zenith_angle</th>\n",
       "      <th>L3_CH4_solar_azimuth_angle</th>\n",
       "      <th>L3_CH4_solar_zenith_angle</th>\n",
       "    </tr>\n",
       "  </thead>\n",
       "  <tbody>\n",
       "    <tr>\n",
       "      <td>0</td>\n",
       "      <td>010Q650 X 2020-01-02</td>\n",
       "      <td>2020-01-02</td>\n",
       "      <td>010Q650</td>\n",
       "      <td>38.0</td>\n",
       "      <td>23.0</td>\n",
       "      <td>53.0</td>\n",
       "      <td>769.50</td>\n",
       "      <td>92</td>\n",
       "      <td>11.0</td>\n",
       "      <td>60.200001</td>\n",
       "      <td>...</td>\n",
       "      <td>38.593017</td>\n",
       "      <td>-61.752587</td>\n",
       "      <td>22.363665</td>\n",
       "      <td>1793.793579</td>\n",
       "      <td>3227.855469</td>\n",
       "      <td>0.010579</td>\n",
       "      <td>74.481049</td>\n",
       "      <td>37.501499</td>\n",
       "      <td>-62.142639</td>\n",
       "      <td>22.545118</td>\n",
       "    </tr>\n",
       "    <tr>\n",
       "      <td>1</td>\n",
       "      <td>010Q650 X 2020-01-03</td>\n",
       "      <td>2020-01-03</td>\n",
       "      <td>010Q650</td>\n",
       "      <td>39.0</td>\n",
       "      <td>25.0</td>\n",
       "      <td>63.0</td>\n",
       "      <td>1319.85</td>\n",
       "      <td>91</td>\n",
       "      <td>14.6</td>\n",
       "      <td>48.799999</td>\n",
       "      <td>...</td>\n",
       "      <td>59.624912</td>\n",
       "      <td>-67.693509</td>\n",
       "      <td>28.614804</td>\n",
       "      <td>1789.960449</td>\n",
       "      <td>3384.226562</td>\n",
       "      <td>0.015104</td>\n",
       "      <td>75.630043</td>\n",
       "      <td>55.657486</td>\n",
       "      <td>-53.868134</td>\n",
       "      <td>19.293652</td>\n",
       "    </tr>\n",
       "  </tbody>\n",
       "</table>\n",
       "<p>2 rows × 82 columns</p>\n",
       "</div>"
      ],
      "text/plain": [
       "        Place_ID X Date        Date Place_ID  target  target_min  target_max  \\\n",
       "0  010Q650 X 2020-01-02  2020-01-02  010Q650    38.0        23.0        53.0   \n",
       "1  010Q650 X 2020-01-03  2020-01-03  010Q650    39.0        25.0        63.0   \n",
       "\n",
       "   target_variance  target_count  precipitable_water_entire_atmosphere  \\\n",
       "0           769.50            92                                  11.0   \n",
       "1          1319.85            91                                  14.6   \n",
       "\n",
       "   relative_humidity_2m_above_ground  ...  L3_SO2_sensor_zenith_angle  \\\n",
       "0                          60.200001  ...                   38.593017   \n",
       "1                          48.799999  ...                   59.624912   \n",
       "\n",
       "   L3_SO2_solar_azimuth_angle  L3_SO2_solar_zenith_angle  \\\n",
       "0                  -61.752587                  22.363665   \n",
       "1                  -67.693509                  28.614804   \n",
       "\n",
       "   L3_CH4_CH4_column_volume_mixing_ratio_dry_air  L3_CH4_aerosol_height  \\\n",
       "0                                    1793.793579            3227.855469   \n",
       "1                                    1789.960449            3384.226562   \n",
       "\n",
       "   L3_CH4_aerosol_optical_depth  L3_CH4_sensor_azimuth_angle  \\\n",
       "0                      0.010579                    74.481049   \n",
       "1                      0.015104                    75.630043   \n",
       "\n",
       "   L3_CH4_sensor_zenith_angle  L3_CH4_solar_azimuth_angle  \\\n",
       "0                   37.501499                  -62.142639   \n",
       "1                   55.657486                  -53.868134   \n",
       "\n",
       "   L3_CH4_solar_zenith_angle  \n",
       "0                  22.545118  \n",
       "1                  19.293652  \n",
       "\n",
       "[2 rows x 82 columns]"
      ]
     },
     "execution_count": 2,
     "metadata": {},
     "output_type": "execute_result"
    }
   ],
   "source": [
    "test =pd.read_csv('Test.csv') \n",
    "train =pd.read_csv('Train.csv');train.head(2)"
   ]
  },
  {
   "cell_type": "code",
   "execution_count": 3,
   "metadata": {},
   "outputs": [
    {
     "data": {
      "text/plain": [
       "Index(['Place_ID X Date', 'Date', 'Place_ID', 'target', 'target_min',\n",
       "       'target_max', 'target_variance', 'target_count',\n",
       "       'precipitable_water_entire_atmosphere',\n",
       "       'relative_humidity_2m_above_ground',\n",
       "       'specific_humidity_2m_above_ground', 'temperature_2m_above_ground',\n",
       "       'u_component_of_wind_10m_above_ground',\n",
       "       'v_component_of_wind_10m_above_ground',\n",
       "       'L3_NO2_NO2_column_number_density',\n",
       "       'L3_NO2_NO2_slant_column_number_density',\n",
       "       'L3_NO2_absorbing_aerosol_index', 'L3_NO2_cloud_fraction',\n",
       "       'L3_NO2_sensor_altitude', 'L3_NO2_sensor_azimuth_angle',\n",
       "       'L3_NO2_sensor_zenith_angle', 'L3_NO2_solar_azimuth_angle',\n",
       "       'L3_NO2_solar_zenith_angle',\n",
       "       'L3_NO2_stratospheric_NO2_column_number_density',\n",
       "       'L3_NO2_tropopause_pressure',\n",
       "       'L3_NO2_tropospheric_NO2_column_number_density',\n",
       "       'L3_O3_O3_column_number_density', 'L3_O3_O3_effective_temperature',\n",
       "       'L3_O3_cloud_fraction', 'L3_O3_sensor_azimuth_angle',\n",
       "       'L3_O3_sensor_zenith_angle', 'L3_O3_solar_azimuth_angle',\n",
       "       'L3_O3_solar_zenith_angle', 'L3_CO_CO_column_number_density',\n",
       "       'L3_CO_H2O_column_number_density', 'L3_CO_cloud_height',\n",
       "       'L3_CO_sensor_altitude', 'L3_CO_sensor_azimuth_angle',\n",
       "       'L3_CO_sensor_zenith_angle', 'L3_CO_solar_azimuth_angle',\n",
       "       'L3_CO_solar_zenith_angle', 'L3_HCHO_HCHO_slant_column_number_density',\n",
       "       'L3_HCHO_cloud_fraction', 'L3_HCHO_sensor_azimuth_angle',\n",
       "       'L3_HCHO_sensor_zenith_angle', 'L3_HCHO_solar_azimuth_angle',\n",
       "       'L3_HCHO_solar_zenith_angle',\n",
       "       'L3_HCHO_tropospheric_HCHO_column_number_density',\n",
       "       'L3_HCHO_tropospheric_HCHO_column_number_density_amf',\n",
       "       'L3_CLOUD_cloud_base_height', 'L3_CLOUD_cloud_base_pressure',\n",
       "       'L3_CLOUD_cloud_fraction', 'L3_CLOUD_cloud_optical_depth',\n",
       "       'L3_CLOUD_cloud_top_height', 'L3_CLOUD_cloud_top_pressure',\n",
       "       'L3_CLOUD_sensor_azimuth_angle', 'L3_CLOUD_sensor_zenith_angle',\n",
       "       'L3_CLOUD_solar_azimuth_angle', 'L3_CLOUD_solar_zenith_angle',\n",
       "       'L3_CLOUD_surface_albedo', 'L3_AER_AI_absorbing_aerosol_index',\n",
       "       'L3_AER_AI_sensor_altitude', 'L3_AER_AI_sensor_azimuth_angle',\n",
       "       'L3_AER_AI_sensor_zenith_angle', 'L3_AER_AI_solar_azimuth_angle',\n",
       "       'L3_AER_AI_solar_zenith_angle', 'L3_SO2_SO2_column_number_density',\n",
       "       'L3_SO2_SO2_column_number_density_amf',\n",
       "       'L3_SO2_SO2_slant_column_number_density',\n",
       "       'L3_SO2_absorbing_aerosol_index', 'L3_SO2_cloud_fraction',\n",
       "       'L3_SO2_sensor_azimuth_angle', 'L3_SO2_sensor_zenith_angle',\n",
       "       'L3_SO2_solar_azimuth_angle', 'L3_SO2_solar_zenith_angle',\n",
       "       'L3_CH4_CH4_column_volume_mixing_ratio_dry_air',\n",
       "       'L3_CH4_aerosol_height', 'L3_CH4_aerosol_optical_depth',\n",
       "       'L3_CH4_sensor_azimuth_angle', 'L3_CH4_sensor_zenith_angle',\n",
       "       'L3_CH4_solar_azimuth_angle', 'L3_CH4_solar_zenith_angle'],\n",
       "      dtype='object')"
      ]
     },
     "execution_count": 3,
     "metadata": {},
     "output_type": "execute_result"
    }
   ],
   "source": [
    "train.columns"
   ]
  },
  {
   "cell_type": "code",
   "execution_count": null,
   "metadata": {},
   "outputs": [],
   "source": [
    "['precipitable_water_entire_atmosphere',\n",
    "       'relative_humidity_2m_above_ground',\n",
    "       'specific_humidity_2m_above_ground', 'temperature_2m_above_ground',\n",
    "       'u_component_of_wind_10m_above_ground',\n",
    "       'v_component_of_wind_10m_above_ground',\n",
    "       'L3_NO2_NO2_column_number_density',\n",
    "       'L3_NO2_NO2_slant_column_number_density',\n",
    "       'L3_NO2_absorbing_aerosol_index', 'L3_NO2_cloud_fraction',\n",
    "       'L3_NO2_sensor_altitude',  'L3_NO2_solar_azimuth_angle',\n",
    "       'L3_NO2_solar_zenith_angle',\n",
    "       'L3_NO2_stratospheric_NO2_column_number_density',\n",
    "       'L3_NO2_tropopause_pressure',\n",
    "       'L3_NO2_tropospheric_NO2_column_number_density',\n",
    "       'L3_O3_O3_column_number_density', 'L3_O3_O3_effective_temperature',\n",
    "       'L3_O3_cloud_fraction', 'L3_O3_solar_azimuth_angle',\n",
    "       'L3_O3_solar_zenith_angle', 'L3_CO_CO_column_number_density',\n",
    "       'L3_CO_H2O_column_number_density', 'L3_CO_cloud_height',\n",
    "       'L3_CO_sensor_altitude', 'L3_CO_solar_azimuth_angle',\n",
    "       'L3_CO_solar_zenith_angle', 'L3_HCHO_HCHO_slant_column_number_density',\n",
    "       'L3_HCHO_cloud_fraction',  'L3_HCHO_solar_azimuth_angle',\n",
    "       'L3_HCHO_solar_zenith_angle',\n",
    "       'L3_HCHO_tropospheric_HCHO_column_number_density',\n",
    "       'L3_HCHO_tropospheric_HCHO_column_number_density_amf',\n",
    "       'L3_CLOUD_cloud_base_height', 'L3_CLOUD_cloud_base_pressure',\n",
    "       'L3_CLOUD_cloud_fraction', 'L3_CLOUD_cloud_optical_depth',\n",
    "       'L3_CLOUD_cloud_top_height', 'L3_CLOUD_cloud_top_pressure',\n",
    "       'L3_CLOUD_solar_azimuth_angle', 'L3_CLOUD_solar_zenith_angle',\n",
    "       'L3_CLOUD_surface_albedo', 'L3_AER_AI_absorbing_aerosol_index',\n",
    "       'L3_AER_AI_sensor_altitude', \n",
    "       'L3_AER_AI_solar_azimuth_angle',\n",
    "       'L3_AER_AI_solar_zenith_angle', 'L3_SO2_SO2_column_number_density',\n",
    "       'L3_SO2_SO2_column_number_density_amf',\n",
    "       'L3_SO2_SO2_slant_column_number_density',\n",
    "       'L3_SO2_absorbing_aerosol_index', 'L3_SO2_cloud_fraction',\n",
    "       'L3_SO2_solar_azimuth_angle', 'L3_SO2_solar_zenith_angle',\n",
    "       'L3_CH4_aerosol_height', 'L3_CH4_aerosol_optical_depth',\n",
    "       'L3_CH4_solar_azimuth_angle', 'L3_CH4_solar_zenith_angle']"
   ]
  },
  {
   "cell_type": "code",
   "execution_count": 5,
   "metadata": {},
   "outputs": [
    {
     "data": {
      "text/plain": [
       "72.5999984741211"
      ]
     },
     "execution_count": 5,
     "metadata": {},
     "output_type": "execute_result"
    }
   ],
   "source": [
    "train['precipitable_water_entire_atmosphere'].max()\n",
    "#CH4 , CH4 FORMS DROP TROSPHERIC -AGGERATE CH4\n",
    "#CO"
   ]
  },
  {
   "cell_type": "code",
   "execution_count": 20,
   "metadata": {},
   "outputs": [
    {
     "data": {
      "text/plain": [
       " 0.0      2915\n",
       "-167.0     112\n",
       "-170.0     102\n",
       "-168.0      99\n",
       "-162.0      99\n",
       "          ... \n",
       "-7.0         1\n",
       " 111.0       1\n",
       " 161.0       1\n",
       " 171.0       1\n",
       "-116.0       1\n",
       "Name: L3_CH4_solar_azimuth_angle, Length: 165, dtype: int64"
      ]
     },
     "execution_count": 20,
     "metadata": {},
     "output_type": "execute_result"
    }
   ],
   "source": [
    "train['L3_CH4_solar_azimuth_angle'].value_counts()"
   ]
  },
  {
   "cell_type": "code",
   "execution_count": null,
   "metadata": {},
   "outputs": [],
   "source": [
    "def azimuth(x):\n",
    "    if x == 0 and x <= 9:\n",
    "        return 0\n",
    "    elif x > 9 and x <= 25:\n",
    "        return 20\n",
    "    elif x > 25 and x <= 50:\n",
    "        return 45\n",
    "    elif x > 50 and x <= 74:\n",
    "        return 60\n",
    "    elif x > 74 and x <= 120:\n",
    "        return 90\n",
    "    else:\n",
    "        return 180\n",
    "train['L3_CH4_solar_azimuth_angle'] =train['L3_CH4_solar_azimuth_angle'].apply(azimuth)"
   ]
  },
  {
   "cell_type": "code",
   "execution_count": null,
   "metadata": {},
   "outputs": [],
   "source": [
    "#add temperature with solar\n",
    "#add morning"
   ]
  },
  {
   "cell_type": "code",
   "execution_count": 14,
   "metadata": {},
   "outputs": [],
   "source": [
    "train['L3_CH4_solar_azimuth_angle']=train['L3_CH4_solar_azimuth_angle'].round(0)"
   ]
  },
  {
   "cell_type": "code",
   "execution_count": 21,
   "metadata": {},
   "outputs": [
    {
     "data": {
      "text/html": [
       "<div>\n",
       "<style scoped>\n",
       "    .dataframe tbody tr th:only-of-type {\n",
       "        vertical-align: middle;\n",
       "    }\n",
       "\n",
       "    .dataframe tbody tr th {\n",
       "        vertical-align: top;\n",
       "    }\n",
       "\n",
       "    .dataframe thead th {\n",
       "        text-align: right;\n",
       "    }\n",
       "</style>\n",
       "<table border=\"1\" class=\"dataframe\">\n",
       "  <thead>\n",
       "    <tr style=\"text-align: right;\">\n",
       "      <th></th>\n",
       "      <th>Place_ID X Date</th>\n",
       "      <th>Date</th>\n",
       "      <th>Place_ID</th>\n",
       "      <th>target</th>\n",
       "      <th>target_min</th>\n",
       "      <th>target_max</th>\n",
       "      <th>target_variance</th>\n",
       "      <th>target_count</th>\n",
       "      <th>precipitable_water_entire_atmosphere</th>\n",
       "      <th>relative_humidity_2m_above_ground</th>\n",
       "      <th>...</th>\n",
       "      <th>L3_SO2_sensor_zenith_angle</th>\n",
       "      <th>L3_SO2_solar_azimuth_angle</th>\n",
       "      <th>L3_SO2_solar_zenith_angle</th>\n",
       "      <th>L3_CH4_CH4_column_volume_mixing_ratio_dry_air</th>\n",
       "      <th>L3_CH4_aerosol_height</th>\n",
       "      <th>L3_CH4_aerosol_optical_depth</th>\n",
       "      <th>L3_CH4_sensor_azimuth_angle</th>\n",
       "      <th>L3_CH4_sensor_zenith_angle</th>\n",
       "      <th>L3_CH4_solar_azimuth_angle</th>\n",
       "      <th>L3_CH4_solar_zenith_angle</th>\n",
       "    </tr>\n",
       "  </thead>\n",
       "  <tbody>\n",
       "    <tr>\n",
       "      <td>13531</td>\n",
       "      <td>E3VXRRJ X 2020-02-08</td>\n",
       "      <td>2020-02-08</td>\n",
       "      <td>E3VXRRJ</td>\n",
       "      <td>94.0</td>\n",
       "      <td>47.0</td>\n",
       "      <td>174.0</td>\n",
       "      <td>14632.9</td>\n",
       "      <td>120</td>\n",
       "      <td>8.2</td>\n",
       "      <td>48.799999</td>\n",
       "      <td>...</td>\n",
       "      <td>49.55398</td>\n",
       "      <td>5.249568</td>\n",
       "      <td>68.320796</td>\n",
       "      <td>1816.750514</td>\n",
       "      <td>4212.878446</td>\n",
       "      <td>0.0188</td>\n",
       "      <td>5.278249</td>\n",
       "      <td>51.293051</td>\n",
       "      <td>60.0</td>\n",
       "      <td>67.943872</td>\n",
       "    </tr>\n",
       "  </tbody>\n",
       "</table>\n",
       "<p>1 rows × 82 columns</p>\n",
       "</div>"
      ],
      "text/plain": [
       "            Place_ID X Date        Date Place_ID  target  target_min  \\\n",
       "13531  E3VXRRJ X 2020-02-08  2020-02-08  E3VXRRJ    94.0        47.0   \n",
       "\n",
       "       target_max  target_variance  target_count  \\\n",
       "13531       174.0          14632.9           120   \n",
       "\n",
       "       precipitable_water_entire_atmosphere  \\\n",
       "13531                                   8.2   \n",
       "\n",
       "       relative_humidity_2m_above_ground  ...  L3_SO2_sensor_zenith_angle  \\\n",
       "13531                          48.799999  ...                    49.55398   \n",
       "\n",
       "       L3_SO2_solar_azimuth_angle  L3_SO2_solar_zenith_angle  \\\n",
       "13531                    5.249568                  68.320796   \n",
       "\n",
       "       L3_CH4_CH4_column_volume_mixing_ratio_dry_air  L3_CH4_aerosol_height  \\\n",
       "13531                                    1816.750514            4212.878446   \n",
       "\n",
       "       L3_CH4_aerosol_optical_depth  L3_CH4_sensor_azimuth_angle  \\\n",
       "13531                        0.0188                     5.278249   \n",
       "\n",
       "       L3_CH4_sensor_zenith_angle  L3_CH4_solar_azimuth_angle  \\\n",
       "13531                   51.293051                        60.0   \n",
       "\n",
       "       L3_CH4_solar_zenith_angle  \n",
       "13531                  67.943872  \n",
       "\n",
       "[1 rows x 82 columns]"
      ]
     },
     "execution_count": 21,
     "metadata": {},
     "output_type": "execute_result"
    }
   ],
   "source": [
    "train[train['L3_CH4_solar_azimuth_angle']== 60]"
   ]
  },
  {
   "cell_type": "code",
   "execution_count": 9,
   "metadata": {},
   "outputs": [
    {
     "data": {
      "text/plain": [
       "<matplotlib.axes._subplots.AxesSubplot at 0x2e630f7f848>"
      ]
     },
     "execution_count": 9,
     "metadata": {},
     "output_type": "execute_result"
    },
    {
     "data": {
      "image/png": "[encoded data removed]",
      "text/plain": [
       "<Figure size 432x288 with 1 Axes>"
      ]
     },
     "metadata": {
      "needs_background": "light"
     },
     "output_type": "display_data"
    }
   ],
   "source": [
    "sns.scatterplot(x='L3_NO2_tropopause_pressure', y='L3_NO2_tropopause_pressure', data =train)"
   ]
  },
  {
   "cell_type": "code",
   "execution_count": 3,
   "metadata": {},
   "outputs": [],
   "source": [
    "train.drop(['Place_ID X Date','target_min', 'target_max', 'target_variance','target_count'], axis=1, inplace =True)\n",
    "test.drop(['Place_ID X Date'], axis=1, inplace =True)"
   ]
  },
  {
   "cell_type": "code",
   "execution_count": 4,
   "metadata": {},
   "outputs": [],
   "source": [
    "df = pd.concat([train, test]).reset_index(drop=True)"
   ]
  },
  {
   "cell_type": "code",
   "execution_count": 5,
   "metadata": {},
   "outputs": [],
   "source": [
    "df = pd.concat([train, test]).reset_index(drop=True)#SOLAR-CH4SO2\n",
    "df['solar_zenith_CH4SO2']=df['L3_CH4_solar_zenith_angle'] + df['L3_SO2_solar_zenith_angle']\n",
    "df['solar_azimuth_CH4S02']= df['L3_CH4_solar_azimuth_angle'] + df['L3_SO2_solar_azimuth_angle']\n",
    "#SENSOR-CH4SO2\n",
    "df['sensor_zenith_CH4S02']= df['L3_CH4_sensor_zenith_angle'] + df['L3_SO2_sensor_zenith_angle']\n",
    "df['sensor_azimuth_CH4S02']= df['L3_CH4_sensor_azimuth_angle'] + df['L3_SO2_sensor_azimuth_angle']\n",
    "\n",
    "#SOLAR-NOSO2\n",
    "df['solar_zenith_SO2NO2']=df['L3_SO2_solar_zenith_angle'] + df['L3_NO2_solar_zenith_angle']\n",
    "df['solar_azimuth_S02NO2']= df['L3_SO2_solar_azimuth_angle'] +df['L3_NO2_solar_azimuth_angle']\n",
    "#SENSOR-NOSO2\n",
    "df['sensor_zenith_SO2NO2']=df['L3_SO2_sensor_zenith_angle'] + df['L3_NO2_sensor_zenith_angle']\n",
    "df['sensor_azimuth_S02NO2']= df['L3_SO2_sensor_azimuth_angle'] +df['L3_NO2_sensor_azimuth_angle']\n",
    "\n",
    "#SOLAR-C2H3NO5\n",
    "df['solar_zenith_C2H3NO5']=df['L3_CO_solar_zenith_angle'] + df['L3_HCHO_solar_zenith_angle'] +df['L3_O3_solar_zenith_angle']\n",
    "df['solar_azimuth_C2H3NO5']=df['L3_CO_solar_azimuth_angle'] + df['L3_HCHO_solar_azimuth_angle'] +df['L3_O3_solar_azimuth_angle']\n",
    "#SENSOR-C2H3NO5\n",
    "df['sensor_zenith_C2H3NO5']=df['L3_CO_solar_zenith_angle'] + df['L3_HCHO_solar_zenith_angle'] +df['L3_O3_solar_zenith_angle']\n",
    "df['sensor_azimuth_C2H3NO5']=df['L3_CO_sensor_azimuth_angle'] + df['L3_HCHO_sensor_azimuth_angle'] +df['L3_O3_sensor_azimuth_angle']\n",
    "#GAS LAW\n",
    "df['p/a'] =df['L3_NO2_tropopause_pressure'] / df['precipitable_water_entire_atmosphere']\n",
    "df['pressure_altitude']=(df['L3_CLOUD_cloud_base_pressure'] - df['L3_CLOUD_cloud_optical_depth']) *304.8\n",
    "df['pressure_altitude']=df['pressure_altitude']+df['L3_AER_AI_sensor_altitude'] +120 \n",
    "df['pressure_altitude'] =(df['pressure_altitude'] * df['precipitable_water_entire_atmosphere']) -5\n",
    "                                                          "
   ]
  },
  {
   "cell_type": "code",
   "execution_count": 6,
   "metadata": {},
   "outputs": [
    {
     "data": {
      "text/plain": [
       "(16136, 76)"
      ]
     },
     "execution_count": 6,
     "metadata": {},
     "output_type": "execute_result"
    }
   ],
   "source": [
    "test.shape"
   ]
  },
  {
   "cell_type": "code",
   "execution_count": 7,
   "metadata": {},
   "outputs": [],
   "source": [
    "def get_date_features(df):\n",
    "    df['Date'] = pd.to_datetime(df[\"Date\"], format = \"%Y-%m-%d\", errors='coerce')\n",
    "    df['year'] = df['Date'].dt.year\n",
    "    df['month'] = df['Date'].dt.month\n",
    "    df['day'] = df['Date'].dt.day\n",
    "    df['quarter'] = df['Date'].dt.quarter\n",
    "get_date_features(df)"
   ]
  },
  {
   "cell_type": "code",
   "execution_count": 8,
   "metadata": {},
   "outputs": [],
   "source": [
    "def get_season(df):\n",
    "    if df['month'] >= 3 and df['month'] <= 5:\n",
    "        return 'rainyseason'\n",
    "    elif df['month'] >= 6 and df['month'] <= 8:\n",
    "        return 'midseason'\n",
    "    elif df['month'] >= 9 and df['month'] <= 11:\n",
    "        return 'dryseason1'\n",
    "    else:\n",
    "        return 'dryseason2'\n",
    "\n",
    "df['Season'] = df.apply(get_season, axis=1)"
   ]
  },
  {
   "cell_type": "code",
   "execution_count": 9,
   "metadata": {},
   "outputs": [],
   "source": [
    "def daysmonth(df):\n",
    "    if df['month']== 1:\n",
    "        return 31\n",
    "    elif df['month']== 2:\n",
    "        return 29\n",
    "    elif df['month'] == 3:\n",
    "        return 31\n",
    "    else:\n",
    "        return 30\n",
    "\n",
    "df['days_in_months'] = df.apply(daysmonth, axis=1)"
   ]
  },
  {
   "cell_type": "code",
   "execution_count": 10,
   "metadata": {},
   "outputs": [],
   "source": [
    "#df = pd.get_dummies(df, columns =['Place_ID'] ,drop_first=True)\n",
    "# Import label encoder \n",
    "from sklearn import preprocessing \n",
    "  \n",
    "# label_encoder object knows how to understand word labels. \n",
    "label_encoder1 = preprocessing.LabelEncoder()\n",
    "label_encoder2 = preprocessing.LabelEncoder()\n",
    "  \n",
    "# Encode labels in column 'species'. \n",
    "df['Place_ID']= label_encoder1.fit_transform(df['Place_ID'])\n",
    "#df['Season']= label_encoder2.fit_transform(df['Season'])"
   ]
  },
  {
   "cell_type": "code",
   "execution_count": 11,
   "metadata": {},
   "outputs": [],
   "source": [
    "length = len(train)\n",
    "train = df[:length]\n",
    "test = df[length:]"
   ]
  },
  {
   "cell_type": "code",
   "execution_count": 12,
   "metadata": {},
   "outputs": [
    {
     "data": {
      "text/plain": [
       "(30557, 97)"
      ]
     },
     "execution_count": 12,
     "metadata": {},
     "output_type": "execute_result"
    }
   ],
   "source": [
    "train.shape"
   ]
  },
  {
   "cell_type": "code",
   "execution_count": 13,
   "metadata": {},
   "outputs": [],
   "source": [
    "def encode_AG__2(group ,main_columns, aggregations, train_df=train, test_df=test, ext_src=None,\n",
    "              fillna=True, usena=False):\n",
    "    # AGGREGATION OF MAIN WITH UID FOR GIVEN STATISTICS\n",
    "    for main_column in main_columns:  \n",
    "            for agg_type in aggregations:\n",
    "                if ext_src is None: \n",
    "                    temp_df = pd.concat([train_df[group +[main_column]], test_df[group +[main_column]]])\n",
    "                    new_col_name = group[0]+\"_\"+group[1]+\"_\"+main_column+'_'+agg_type\n",
    "                                    \n",
    "                else:\n",
    "                    temp_df = ext_src.copy()\n",
    "                    new_col_name = \"ext_data\"+ \"_\"+group[0]+\"_\"+group[1]+\"_\"+main_column+'_'+agg_type\n",
    "                    \n",
    "                if usena: temp_df.loc[temp_df[main_column]==-1,main_column] = np.nan\n",
    "                temp_df = temp_df.groupby(group)[main_column].agg([agg_type]).reset_index(level=group).rename(\n",
    "                                                        columns={agg_type: new_col_name})\n",
    "                \n",
    "                \n",
    "\n",
    "\n",
    "                train_df[new_col_name] = pd.merge(train_df, temp_df, on=group, how='left')[new_col_name].astype('float32')\n",
    "                test_df[new_col_name]  = pd.merge(test_df, temp_df, on=group, how='left')[new_col_name].astype('float32')\n",
    "                \n",
    "                if fillna:\n",
    "                    train_df[new_col_name].fillna(-1,inplace=True)\n",
    "                    test_df[new_col_name].fillna(-1,inplace=True)\n",
    "                \n",
    "                print(\"'\"+new_col_name+\"'\",', ',end='')\n",
    "            \n",
    "def encode_AG(uids ,main_columns, aggregations, train_df=train, test_df=test, ext_src=None,\n",
    "              fillna=True, usena=False):\n",
    "    # AGGREGATION OF MAIN WITH UID FOR GIVEN STATISTICS\n",
    "    for main_column in main_columns:  \n",
    "        for col in uids:\n",
    "            for agg_type in aggregations:\n",
    "                if ext_src is None: \n",
    "                    temp_df = pd.concat([train_df[[col, main_column]], test_df[[col,main_column]]])\n",
    "                    new_col_name = main_column+'_'+col+'_'+agg_type\n",
    "                                    \n",
    "                else:\n",
    "                    temp_df = ext_src.copy()\n",
    "                    new_col_name = \"ext_data\"+ \"_\"+main_column+'_'+col+'_'+agg_type\n",
    "\n",
    "                if usena: temp_df.loc[temp_df[main_column]==-1,main_column] = np.nan\n",
    "                temp_df = temp_df.groupby([col])[main_column].agg([agg_type]).reset_index().rename(\n",
    "                                                        columns={agg_type: new_col_name})\n",
    "\n",
    "                temp_df.index = list(temp_df[col])\n",
    "                temp_df = temp_df[new_col_name].to_dict()   \n",
    "\n",
    "                train_df[new_col_name] = train_df[col].map(temp_df).astype('float32')\n",
    "                test_df[new_col_name]  = test_df[col].map(temp_df).astype('float32')\n",
    "                \n",
    "                if fillna:\n",
    "                    train_df[new_col_name].fillna(-1,inplace=True)\n",
    "                    test_df[new_col_name].fillna(-1,inplace=True)\n",
    "                \n",
    "                print(\"'\"+new_col_name+\"'\",', ',end='')\n",
    "\n",
    "# COMBINE FEATURES\n",
    "def encode_CB(col1,col2,df1=train,df2=test):\n",
    "    nm = col1+'_'+col2\n",
    "    df1[nm] = df1[col1].astype(str)+'_'+df1[col2].astype(str)\n",
    "    df2[nm] = df2[col1].astype(str)+'_'+df2[col2].astype(str) \n",
    "#     encode_LE(nm,verbose=False)\n",
    "    print(nm,', ',end='')\n",
    "    \n",
    "# GROUP AGGREGATION NUNIQUE\n",
    "def encode_AG2( uids,main_columns, train_df=train, test_df=test):\n",
    "    for main_column in main_columns:  \n",
    "        for col in uids:\n",
    "            comb = pd.concat([train_df[[col]+[main_column]],test_df[[col]+[main_column]]],axis=0)\n",
    "            mp = comb.groupby(col)[main_column].agg(['nunique'])['nunique'].to_dict()\n",
    "            train_df[col+'_'+main_column+'_ct'] = train_df[col].map(mp).astype('float32')\n",
    "            test_df[col+'_'+main_column+'_ct'] = test_df[col].map(mp).astype('float32')\n",
    "            print(col+'_'+main_column+'_ct, ',end='')"
   ]
  },
  {
   "cell_type": "code",
   "execution_count": 14,
   "metadata": {},
   "outputs": [
    {
     "name": "stdout",
     "output_type": "stream",
     "text": [
      "(30557, 97) (16136, 97)\n"
     ]
    }
   ],
   "source": [
    "print(train.shape, test.shape)"
   ]
  },
  {
   "cell_type": "code",
   "execution_count": 15,
   "metadata": {},
   "outputs": [
    {
     "data": {
      "text/plain": [
       "Index(['Date', 'L3_AER_AI_absorbing_aerosol_index',\n",
       "       'L3_AER_AI_sensor_altitude', 'L3_AER_AI_sensor_azimuth_angle',\n",
       "       'L3_AER_AI_sensor_zenith_angle', 'L3_AER_AI_solar_azimuth_angle',\n",
       "       'L3_AER_AI_solar_zenith_angle',\n",
       "       'L3_CH4_CH4_column_volume_mixing_ratio_dry_air',\n",
       "       'L3_CH4_aerosol_height', 'L3_CH4_aerosol_optical_depth',\n",
       "       'L3_CH4_sensor_azimuth_angle', 'L3_CH4_sensor_zenith_angle',\n",
       "       'L3_CH4_solar_azimuth_angle', 'L3_CH4_solar_zenith_angle',\n",
       "       'L3_CLOUD_cloud_base_height', 'L3_CLOUD_cloud_base_pressure',\n",
       "       'L3_CLOUD_cloud_fraction', 'L3_CLOUD_cloud_optical_depth',\n",
       "       'L3_CLOUD_cloud_top_height', 'L3_CLOUD_cloud_top_pressure',\n",
       "       'L3_CLOUD_sensor_azimuth_angle', 'L3_CLOUD_sensor_zenith_angle',\n",
       "       'L3_CLOUD_solar_azimuth_angle', 'L3_CLOUD_solar_zenith_angle',\n",
       "       'L3_CLOUD_surface_albedo', 'L3_CO_CO_column_number_density',\n",
       "       'L3_CO_H2O_column_number_density', 'L3_CO_cloud_height',\n",
       "       'L3_CO_sensor_altitude', 'L3_CO_sensor_azimuth_angle',\n",
       "       'L3_CO_sensor_zenith_angle', 'L3_CO_solar_azimuth_angle',\n",
       "       'L3_CO_solar_zenith_angle', 'L3_HCHO_HCHO_slant_column_number_density',\n",
       "       'L3_HCHO_cloud_fraction', 'L3_HCHO_sensor_azimuth_angle',\n",
       "       'L3_HCHO_sensor_zenith_angle', 'L3_HCHO_solar_azimuth_angle',\n",
       "       'L3_HCHO_solar_zenith_angle',\n",
       "       'L3_HCHO_tropospheric_HCHO_column_number_density',\n",
       "       'L3_HCHO_tropospheric_HCHO_column_number_density_amf',\n",
       "       'L3_NO2_NO2_column_number_density',\n",
       "       'L3_NO2_NO2_slant_column_number_density',\n",
       "       'L3_NO2_absorbing_aerosol_index', 'L3_NO2_cloud_fraction',\n",
       "       'L3_NO2_sensor_altitude', 'L3_NO2_sensor_azimuth_angle',\n",
       "       'L3_NO2_sensor_zenith_angle', 'L3_NO2_solar_azimuth_angle',\n",
       "       'L3_NO2_solar_zenith_angle',\n",
       "       'L3_NO2_stratospheric_NO2_column_number_density',\n",
       "       'L3_NO2_tropopause_pressure',\n",
       "       'L3_NO2_tropospheric_NO2_column_number_density',\n",
       "       'L3_O3_O3_column_number_density', 'L3_O3_O3_effective_temperature',\n",
       "       'L3_O3_cloud_fraction', 'L3_O3_sensor_azimuth_angle',\n",
       "       'L3_O3_sensor_zenith_angle', 'L3_O3_solar_azimuth_angle',\n",
       "       'L3_O3_solar_zenith_angle', 'L3_SO2_SO2_column_number_density',\n",
       "       'L3_SO2_SO2_column_number_density_amf',\n",
       "       'L3_SO2_SO2_slant_column_number_density',\n",
       "       'L3_SO2_absorbing_aerosol_index', 'L3_SO2_cloud_fraction',\n",
       "       'L3_SO2_sensor_azimuth_angle', 'L3_SO2_sensor_zenith_angle',\n",
       "       'L3_SO2_solar_azimuth_angle', 'L3_SO2_solar_zenith_angle', 'Place_ID',\n",
       "       'precipitable_water_entire_atmosphere',\n",
       "       'relative_humidity_2m_above_ground',\n",
       "       'specific_humidity_2m_above_ground', 'target',\n",
       "       'temperature_2m_above_ground', 'u_component_of_wind_10m_above_ground',\n",
       "       'v_component_of_wind_10m_above_ground', 'solar_zenith_CH4SO2',\n",
       "       'solar_azimuth_CH4S02', 'sensor_zenith_CH4S02', 'sensor_azimuth_CH4S02',\n",
       "       'solar_zenith_SO2NO2', 'solar_azimuth_S02NO2', 'sensor_zenith_SO2NO2',\n",
       "       'sensor_azimuth_S02NO2', 'solar_zenith_C2H3NO5',\n",
       "       'solar_azimuth_C2H3NO5', 'sensor_zenith_C2H3NO5',\n",
       "       'sensor_azimuth_C2H3NO5', 'p/a', 'pressure_altitude', 'year', 'month',\n",
       "       'day', 'quarter', 'Season', 'days_in_months'],\n",
       "      dtype='object')"
      ]
     },
     "execution_count": 15,
     "metadata": {},
     "output_type": "execute_result"
    }
   ],
   "source": [
    "train.columns"
   ]
  },
  {
   "cell_type": "markdown",
   "metadata": {},
   "source": [
    "# UNIVARIATE ANALYSIS -Month"
   ]
  },
  {
   "cell_type": "code",
   "execution_count": 16,
   "metadata": {},
   "outputs": [
    {
     "data": {
      "text/plain": [
       "<matplotlib.axes._subplots.AxesSubplot at 0x1d43f21bf48>"
      ]
     },
     "execution_count": 16,
     "metadata": {},
     "output_type": "execute_result"
    },
    {
     "data": {
      "image/png": "[encoded data removed]",
      "text/plain": [
       "<Figure size 432x288 with 1 Axes>"
      ]
     },
     "metadata": {
      "needs_background": "light"
     },
     "output_type": "display_data"
    }
   ],
   "source": [
    "train['month'].hist()"
   ]
  },
  {
   "cell_type": "markdown",
   "metadata": {},
   "source": [
    "# BIVARIATE ANALYSIS -Month"
   ]
  },
  {
   "cell_type": "code",
   "execution_count": 17,
   "metadata": {},
   "outputs": [
    {
     "data": {
      "text/plain": [
       "<matplotlib.axes._subplots.AxesSubplot at 0x1d451a6cd48>"
      ]
     },
     "execution_count": 17,
     "metadata": {},
     "output_type": "execute_result"
    },
    {
     "data": {
      "image/png": "[encoded data removed]",
      "text/plain": [
       "<Figure size 432x288 with 1 Axes>"
      ]
     },
     "metadata": {
      "needs_background": "light"
     },
     "output_type": "display_data"
    }
   ],
   "source": [
    "sns.scatterplot(x='month', y='target', data=train)"
   ]
  },
  {
   "cell_type": "markdown",
   "metadata": {},
   "source": [
    "# UNIVARIATE ANALYSIS -precipitable_water_entire_atmosphere"
   ]
  },
  {
   "cell_type": "code",
   "execution_count": 18,
   "metadata": {},
   "outputs": [
    {
     "data": {
      "text/plain": [
       "7.100000     109\n",
       "10.400001    102\n",
       "6.100000     101\n",
       "7.000000     100\n",
       "10.300000     99\n",
       "            ... \n",
       "10.925000      1\n",
       "17.842858      1\n",
       "11.175000      1\n",
       "17.471657      1\n",
       "17.315077      1\n",
       "Name: precipitable_water_entire_atmosphere, Length: 12638, dtype: int64"
      ]
     },
     "execution_count": 18,
     "metadata": {},
     "output_type": "execute_result"
    }
   ],
   "source": [
    "train['precipitable_water_entire_atmosphere'].value_counts()"
   ]
  },
  {
   "cell_type": "code",
   "execution_count": 19,
   "metadata": {},
   "outputs": [
    {
     "data": {
      "text/plain": [
       "<matplotlib.axes._subplots.AxesSubplot at 0x1d43ee93a88>"
      ]
     },
     "execution_count": 19,
     "metadata": {},
     "output_type": "execute_result"
    },
    {
     "data": {
      "image/png": "[encoded data removed]",
      "text/plain": [
       "<Figure size 432x288 with 1 Axes>"
      ]
     },
     "metadata": {
      "needs_background": "light"
     },
     "output_type": "display_data"
    }
   ],
   "source": [
    "train['precipitable_water_entire_atmosphere'].hist()"
   ]
  },
  {
   "cell_type": "code",
   "execution_count": 20,
   "metadata": {},
   "outputs": [
    {
     "data": {
      "text/plain": [
       "<matplotlib.axes._subplots.AxesSubplot at 0x1d43f2db548>"
      ]
     },
     "execution_count": 20,
     "metadata": {},
     "output_type": "execute_result"
    },
    {
     "data": {
      "image/png": "[encoded data removed]",
      "text/plain": [
       "<Figure size 432x288 with 1 Axes>"
      ]
     },
     "metadata": {
      "needs_background": "light"
     },
     "output_type": "display_data"
    }
   ],
   "source": [
    "sns.scatterplot(x='precipitable_water_entire_atmosphere', y='target', data=train)"
   ]
  },
  {
   "cell_type": "code",
   "execution_count": 21,
   "metadata": {},
   "outputs": [],
   "source": [
    "#precipitation per month\n",
    "train['precipitation per month']= train['precipitable_water_entire_atmosphere']/train['days_in_months']\n",
    "test['precipitation per month']= test['precipitable_water_entire_atmosphere']/test['days_in_months']"
   ]
  },
  {
   "cell_type": "markdown",
   "metadata": {},
   "source": [
    "# UNIVARIATE ANALYSIS - PLACE-ID"
   ]
  },
  {
   "cell_type": "code",
   "execution_count": 22,
   "metadata": {},
   "outputs": [
    {
     "data": {
      "text/plain": [
       "511    94\n",
       "6      94\n",
       "373    94\n",
       "389    94\n",
       "405    94\n",
       "       ..\n",
       "318    41\n",
       "400    29\n",
       "92     12\n",
       "333     7\n",
       "76      3\n",
       "Name: Place_ID, Length: 340, dtype: int64"
      ]
     },
     "execution_count": 22,
     "metadata": {},
     "output_type": "execute_result"
    }
   ],
   "source": [
    "train['Place_ID'].value_counts()"
   ]
  },
  {
   "cell_type": "code",
   "execution_count": 23,
   "metadata": {},
   "outputs": [],
   "source": [
    "train['Freq_Place_ID']=train['Place_ID'].map(train['Place_ID'].value_counts())\n",
    "test['Freq_Place_ID']=test['Place_ID'].map(test['Place_ID'].value_counts())"
   ]
  },
  {
   "cell_type": "code",
   "execution_count": 24,
   "metadata": {},
   "outputs": [
    {
     "name": "stdout",
     "output_type": "stream",
     "text": [
      "'precipitable_water_entire_atmosphere_Place_ID_mean' , 'precipitable_water_entire_atmosphere_Place_ID_min' , 'precipitable_water_entire_atmosphere_Place_ID_max' , 'precipitable_water_entire_atmosphere_Place_ID_std' , "
     ]
    }
   ],
   "source": [
    "encode_AG(['Place_ID'] ,  ['precipitable_water_entire_atmosphere'], ['mean','min','max','std'], train_df=train,test_df=test,\n",
    "              fillna=True, usena=False)"
   ]
  },
  {
   "cell_type": "code",
   "execution_count": 25,
   "metadata": {},
   "outputs": [
    {
     "name": "stdout",
     "output_type": "stream",
     "text": [
      "'Place_ID_precipitable_water_entire_atmosphere_month_mean' , 'Place_ID_precipitable_water_entire_atmosphere_month_min' , 'Place_ID_precipitable_water_entire_atmosphere_month_max' , 'Place_ID_precipitable_water_entire_atmosphere_month_std' , "
     ]
    }
   ],
   "source": [
    "encode_AG__2(['Place_ID','precipitable_water_entire_atmosphere'] ,  ['month'], ['mean','min','max','std'], train_df=train,test_df=test,\n",
    "              fillna=True, usena=False)"
   ]
  },
  {
   "cell_type": "markdown",
   "metadata": {},
   "source": [
    "# UNIVARIATE ANALYSIS - L3_AER_AI_absorbing_aerosol_index"
   ]
  },
  {
   "cell_type": "code",
   "execution_count": 26,
   "metadata": {},
   "outputs": [
    {
     "data": {
      "text/plain": [
       "-1.516513    1\n",
       "-1.530617    1\n",
       "-1.761528    1\n",
       "-0.435341    1\n",
       "-1.640505    1\n",
       "            ..\n",
       "-0.255618    1\n",
       "-0.976335    1\n",
       "-1.311504    1\n",
       "-0.773203    1\n",
       "-0.985409    1\n",
       "Name: L3_AER_AI_absorbing_aerosol_index, Length: 30360, dtype: int64"
      ]
     },
     "execution_count": 26,
     "metadata": {},
     "output_type": "execute_result"
    }
   ],
   "source": [
    "#A measure of the prevalence of aerosols in the atmosphere\n",
    "#that index \"detects the presence of uv-absorbing aerosols such as dust and smoke\".\n",
    "#+values of Aerosol Index generally represent absorbing aerosols (dust and smoke) while small or -values represent non-absorbing aerosols and clouds\n",
    "#Observation and monitoring of the aerosol background in the troposphere is very important for atmospheric physics.\n",
    "train['L3_AER_AI_absorbing_aerosol_index'].value_counts()"
   ]
  },
  {
   "cell_type": "code",
   "execution_count": 27,
   "metadata": {},
   "outputs": [],
   "source": [
    "train['-L3_AER_AI_absorbing_aerosol_index'] = train.L3_AER_AI_absorbing_aerosol_index[train.L3_AER_AI_absorbing_aerosol_index < 0]\n",
    "train['+L3_AER_AI_absorbing_aerosol_index'] = train.L3_AER_AI_absorbing_aerosol_index[train.L3_AER_AI_absorbing_aerosol_index >= 0]"
   ]
  },
  {
   "cell_type": "code",
   "execution_count": 28,
   "metadata": {},
   "outputs": [],
   "source": [
    "test['-L3_AER_AI_absorbing_aerosol_index'] = test.L3_AER_AI_absorbing_aerosol_index[test.L3_AER_AI_absorbing_aerosol_index < 0]\n",
    "test['+L3_AER_AI_absorbing_aerosol_index'] = test.L3_AER_AI_absorbing_aerosol_index[test.L3_AER_AI_absorbing_aerosol_index >= 0]"
   ]
  },
  {
   "cell_type": "code",
   "execution_count": 29,
   "metadata": {},
   "outputs": [
    {
     "data": {
      "text/plain": [
       "<matplotlib.axes._subplots.AxesSubplot at 0x1d43f383708>"
      ]
     },
     "execution_count": 29,
     "metadata": {},
     "output_type": "execute_result"
    },
    {
     "data": {
      "image/png": "[encoded data removed]",
      "text/plain": [
       "<Figure size 432x288 with 1 Axes>"
      ]
     },
     "metadata": {
      "needs_background": "light"
     },
     "output_type": "display_data"
    }
   ],
   "source": [
    "sns.boxplot(train['-L3_AER_AI_absorbing_aerosol_index'])"
   ]
  },
  {
   "cell_type": "code",
   "execution_count": 30,
   "metadata": {},
   "outputs": [
    {
     "data": {
      "text/plain": [
       "<matplotlib.axes._subplots.AxesSubplot at 0x1d43f4ee248>"
      ]
     },
     "execution_count": 30,
     "metadata": {},
     "output_type": "execute_result"
    },
    {
     "data": {
      "image/png": "[encoded data removed]",
      "text/plain": [
       "<Figure size 432x288 with 1 Axes>"
      ]
     },
     "metadata": {
      "needs_background": "light"
     },
     "output_type": "display_data"
    }
   ],
   "source": [
    "sns.boxplot(train['+L3_AER_AI_absorbing_aerosol_index'])"
   ]
  },
  {
   "cell_type": "code",
   "execution_count": 31,
   "metadata": {},
   "outputs": [],
   "source": [
    "#Handle outliers"
   ]
  },
  {
   "cell_type": "markdown",
   "metadata": {},
   "source": [
    "## BIVARIATE ANALYSIS"
   ]
  },
  {
   "cell_type": "code",
   "execution_count": 32,
   "metadata": {},
   "outputs": [
    {
     "data": {
      "text/plain": [
       "<matplotlib.axes._subplots.AxesSubplot at 0x1d43f3f9c88>"
      ]
     },
     "execution_count": 32,
     "metadata": {},
     "output_type": "execute_result"
    },
    {
     "data": {
      "image/png": "[encoded data removed]",
      "text/plain": [
       "<Figure size 432x288 with 1 Axes>"
      ]
     },
     "metadata": {
      "needs_background": "light"
     },
     "output_type": "display_data"
    }
   ],
   "source": [
    "sns.scatterplot(x='-L3_AER_AI_absorbing_aerosol_index', y='target', data=train)"
   ]
  },
  {
   "cell_type": "code",
   "execution_count": 33,
   "metadata": {},
   "outputs": [
    {
     "data": {
      "text/plain": [
       "<matplotlib.axes._subplots.AxesSubplot at 0x1d43f3dd5c8>"
      ]
     },
     "execution_count": 33,
     "metadata": {},
     "output_type": "execute_result"
    },
    {
     "data": {
      "image/png": "[encoded data removed]",
      "text/plain": [
       "<Figure size 432x288 with 1 Axes>"
      ]
     },
     "metadata": {
      "needs_background": "light"
     },
     "output_type": "display_data"
    }
   ],
   "source": [
    "sns.scatterplot(x='+L3_AER_AI_absorbing_aerosol_index', y='target', data=train)"
   ]
  },
  {
   "cell_type": "code",
   "execution_count": 34,
   "metadata": {},
   "outputs": [
    {
     "data": {
      "text/plain": [
       "array([0.31252085, 0.43395721, 0.35692461, ..., 0.23461286, 0.26371515,\n",
       "       0.54644714])"
      ]
     },
     "execution_count": 34,
     "metadata": {},
     "output_type": "execute_result"
    }
   ],
   "source": [
    "train['L3_SO2_SO2_column_number_density_amf'].unique()"
   ]
  },
  {
   "cell_type": "code",
   "execution_count": 35,
   "metadata": {},
   "outputs": [],
   "source": [
    "train=train.round(2)\n",
    "test=test.round(2)"
   ]
  },
  {
   "cell_type": "code",
   "execution_count": 36,
   "metadata": {},
   "outputs": [],
   "source": [
    "#length = len(train)\n",
    "#train = df[:length]\n",
    "#test = df[length:]"
   ]
  },
  {
   "cell_type": "code",
   "execution_count": 37,
   "metadata": {},
   "outputs": [],
   "source": [
    "#test.drop('target', axis=1, inplace =True)"
   ]
  },
  {
   "cell_type": "code",
   "execution_count": 38,
   "metadata": {},
   "outputs": [],
   "source": [
    "train[\"Place_ID_precipitable_water_entire_atmosphere_month_mean\"] = train[\"Place_ID_precipitable_water_entire_atmosphere_month_mean\"].astype(np.int)\n",
    "train[\"Place_ID_precipitable_water_entire_atmosphere_month_min\"] = train[\"Place_ID_precipitable_water_entire_atmosphere_month_min\"].astype(np.int)\n",
    "train[\"Place_ID_precipitable_water_entire_atmosphere_month_max\"] = train[\"Place_ID_precipitable_water_entire_atmosphere_month_max\"].astype(np.int)\n",
    "train[\"Place_ID_precipitable_water_entire_atmosphere_month_std\"] = train[\"Place_ID_precipitable_water_entire_atmosphere_month_std\"].astype(np.int)"
   ]
  },
  {
   "cell_type": "code",
   "execution_count": 39,
   "metadata": {},
   "outputs": [],
   "source": [
    "test[\"Place_ID_precipitable_water_entire_atmosphere_month_mean\"] = test[\"Place_ID_precipitable_water_entire_atmosphere_month_mean\"].astype(np.int)\n",
    "test[\"Place_ID_precipitable_water_entire_atmosphere_month_min\"] = test[\"Place_ID_precipitable_water_entire_atmosphere_month_min\"].astype(np.int)\n",
    "test[\"Place_ID_precipitable_water_entire_atmosphere_month_max\"] = test[\"Place_ID_precipitable_water_entire_atmosphere_month_max\"].astype(np.int)\n",
    "test[\"Place_ID_precipitable_water_entire_atmosphere_month_std\"] = test[\"Place_ID_precipitable_water_entire_atmosphere_month_std\"].astype(np.int)"
   ]
  },
  {
   "cell_type": "code",
   "execution_count": 40,
   "metadata": {},
   "outputs": [],
   "source": [
    "train[\"precipitable_water_entire_atmosphere_Place_ID_mean\"] = train[\"precipitable_water_entire_atmosphere_Place_ID_mean\"].astype(np.int)\n",
    "train[\"precipitable_water_entire_atmosphere_Place_ID_min\"] = train[\"precipitable_water_entire_atmosphere_Place_ID_min\"].astype(np.int)\n",
    "train[\"precipitable_water_entire_atmosphere_Place_ID_max\"] = train[\"precipitable_water_entire_atmosphere_Place_ID_max\"].astype(np.int)\n",
    "train[\"precipitable_water_entire_atmosphere_Place_ID_std\"] = train[\"precipitable_water_entire_atmosphere_Place_ID_std\"].astype(np.int)"
   ]
  },
  {
   "cell_type": "code",
   "execution_count": 41,
   "metadata": {},
   "outputs": [],
   "source": [
    "test[\"precipitable_water_entire_atmosphere_Place_ID_mean\"] = test[\"precipitable_water_entire_atmosphere_Place_ID_mean\"].astype(np.int)\n",
    "test[\"precipitable_water_entire_atmosphere_Place_ID_min\"] = test[\"precipitable_water_entire_atmosphere_Place_ID_min\"].astype(np.int)\n",
    "test[\"precipitable_water_entire_atmosphere_Place_ID_max\"] = test[\"precipitable_water_entire_atmosphere_Place_ID_max\"].astype(np.int)\n",
    "test[\"precipitable_water_entire_atmosphere_Place_ID_std\"] = test[\"precipitable_water_entire_atmosphere_Place_ID_std\"].astype(np.int)"
   ]
  },
  {
   "cell_type": "code",
   "execution_count": 42,
   "metadata": {},
   "outputs": [],
   "source": [
    "train.fillna(-1, inplace=True)\n",
    "test.fillna(-1, inplace=True)"
   ]
  },
  {
   "cell_type": "code",
   "execution_count": 43,
   "metadata": {},
   "outputs": [],
   "source": [
    "X = train.drop(['Date','target'], axis=1)\n",
    "y = train['target']"
   ]
  },
  {
   "cell_type": "code",
   "execution_count": 44,
   "metadata": {},
   "outputs": [],
   "source": [
    "test = test.drop(['target','Date'], axis=1)"
   ]
  },
  {
   "cell_type": "code",
   "execution_count": 45,
   "metadata": {},
   "outputs": [
    {
     "data": {
      "text/plain": [
       "(16136, 107)"
      ]
     },
     "execution_count": 45,
     "metadata": {},
     "output_type": "execute_result"
    }
   ],
   "source": [
    "test.shape"
   ]
  },
  {
   "cell_type": "code",
   "execution_count": 46,
   "metadata": {},
   "outputs": [],
   "source": [
    "samp =pd.read_csv(r'C:\\Users\\DELL\\Desktop\\Hackhathons\\Urban\\SampleSubmission (1).csv')"
   ]
  },
  {
   "cell_type": "markdown",
   "metadata": {},
   "source": [
    "# CAT BOOST"
   ]
  },
  {
   "cell_type": "code",
   "execution_count": 47,
   "metadata": {},
   "outputs": [],
   "source": [
    "param = {\n",
    "    'boosting_type': 'gbdt',\n",
    "    'objective': 'regression',\n",
    "    'metric': 'rmse','sub_sample':0.9,\n",
    "    'max_depth': -1,\n",
    "    'learning_rate': 0.08,#\n",
    "    'feature_fraction': 0.9,\n",
    "    'num_threads' : 45,\n",
    "    'num_leaves'  : 125, #255,\n",
    "    'min_data_in_leaf' : 0,\n",
    "    'min_sum_hessian_in_leaf' : 100,\n",
    "    'verbose': 0}"
   ]
  },
  {
   "cell_type": "code",
   "execution_count": null,
   "metadata": {},
   "outputs": [],
   "source": [
    "errcb=[]\n",
    "y_pred_totcb=[]\n",
    "fold=KFold(n_splits=4, random_state=273)\n",
    "i=1\n",
    "\n",
    "for train_index, test_index in fold.split(X,y):#X_trainx,y_trainx\n",
    "    X_train, X_test = X.iloc[train_index], X.iloc[test_index]\n",
    "    y_train, y_test = y[train_index], y[test_index]\n",
    "    m=LGBMRegressor(**param, random_state=188)\n",
    "    m.fit(X_train,y_train,eval_set=[(X_train,y_train),(X_test, y_test)],verbose=50, early_stopping_rounds=100)\n",
    "    preds=m.predict(X_test)\n",
    "    print(\"err: \",np.sqrt(mean_squared_error(y_test,preds)))\n",
    "    errcb.append(np.sqrt(mean_squared_error(y_test,preds)))\n",
    "    p = m.predict(test)\n",
    "    y_pred_totcb.append(p)"
   ]
  },
  {
   "cell_type": "code",
   "execution_count": null,
   "metadata": {},
   "outputs": [],
   "source": [
    "pred =np.mean(y_pred_totcb,0)"
   ]
  },
  {
   "cell_type": "code",
   "execution_count": null,
   "metadata": {},
   "outputs": [],
   "source": [
    "np.mean(errcb)"
   ]
  },
  {
   "cell_type": "code",
   "execution_count": null,
   "metadata": {},
   "outputs": [],
   "source": [
    "fea_imp = pd.DataFrame({'imp':m.feature_importances_, 'col': X.columns})\n",
    "fea_imp = fea_imp.sort_values(['imp', 'col'], ascending=[True, False]).iloc[-30:]\n",
    "_ = fea_imp.plot(kind='barh', x='col', y='imp', figsize=(20, 10))\n",
    "plt.savefig('catboost_feature_importance.png')"
   ]
  },
  {
   "cell_type": "code",
   "execution_count": null,
   "metadata": {},
   "outputs": [],
   "source": [
    "d = {\"Place_ID X Date\": samp['Place_ID X Date'], 'target':np.mean(y_pred_totcb,0)}\n",
    "test_predictions_cat = pd.DataFrame(data=d)\n",
    "test_predictions_cat = test_predictions_cat[[\"Place_ID X Date\", 'target']]"
   ]
  },
  {
   "cell_type": "code",
   "execution_count": null,
   "metadata": {},
   "outputs": [],
   "source": [
    "test_predictions_cat.head()"
   ]
  },
  {
   "cell_type": "code",
   "execution_count": null,
   "metadata": {},
   "outputs": [],
   "source": [
    "test_predictions_cat.to_csv('cat3.csv', index=False)"
   ]
  },
  {
   "cell_type": "code",
   "execution_count": null,
   "metadata": {},
   "outputs": [],
   "source": []
  }
 ],
 "metadata": {
  "kernelspec": {
   "display_name": "Python 3",
   "language": "python",
   "name": "python3"
  },
  "language_info": {
   "codemirror_mode": {
    "name": "ipython",
    "version": 3
   },
   "file_extension": ".py",
   "mimetype": "text/x-python",
   "name": "python",
   "nbconvert_exporter": "python",
   "pygments_lexer": "ipython3",
   "version": "3.7.4"
  }
 },
 "nbformat": 4,
 "nbformat_minor": 2
}
